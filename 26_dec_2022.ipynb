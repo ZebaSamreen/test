{
 "cells": [
  {
   "cell_type": "markdown",
   "id": "9dd9d306",
   "metadata": {},
   "source": [
    "# hey its you"
   ]
  },
  {
   "cell_type": "markdown",
   "id": "9cf68790",
   "metadata": {},
   "source": [
    "## hello"
   ]
  },
  {
   "cell_type": "markdown",
   "id": "1adc02a1",
   "metadata": {},
   "source": [
    "## Using HTML"
   ]
  },
  {
   "cell_type": "markdown",
   "id": "f42762c7",
   "metadata": {},
   "source": [
    "<h2> Heading2 using html </h2>"
   ]
  },
  {
   "cell_type": "markdown",
   "id": "4f4fe564",
   "metadata": {},
   "source": [
    "<h3> h3 </h3>"
   ]
  },
  {
   "cell_type": "markdown",
   "id": "cf173ac5",
   "metadata": {},
   "source": [
    "<h4> <span class=\"pirk\">h4</span> </h4>"
   ]
  },
  {
   "cell_type": "markdown",
   "id": "e50bb8b6",
   "metadata": {},
   "source": [
    "# Collapsible Main Heading "
   ]
  },
  {
   "cell_type": "markdown",
   "id": "e1863eb1",
   "metadata": {},
   "source": [
    "## Sub Heading 2"
   ]
  },
  {
   "cell_type": "markdown",
   "id": "bf05181d",
   "metadata": {},
   "source": [
    "### Heading 3"
   ]
  },
  {
   "cell_type": "markdown",
   "id": "2bb83eff",
   "metadata": {},
   "source": [
    "#### Heading 4"
   ]
  },
  {
   "cell_type": "markdown",
   "id": "5d64dfdd",
   "metadata": {},
   "source": [
    "##### Heading 5"
   ]
  },
  {
   "cell_type": "markdown",
   "id": "8313f769",
   "metadata": {},
   "source": [
    "###### Heading 6"
   ]
  },
  {
   "cell_type": "markdown",
   "id": "e014b5bb",
   "metadata": {},
   "source": []
  },
  {
   "cell_type": "markdown",
   "id": "cde5109c",
   "metadata": {},
   "source": [
    "# Blockquote:"
   ]
  },
  {
   "cell_type": "markdown",
   "id": "f725cd4e",
   "metadata": {},
   "source": [
    "> A blockquote is a sentence or paragraph that's been specially formatted to draw attention to the reader.\n",
    "\n",
    "\n",
    "Syntax:`> text`"
   ]
  },
  {
   "cell_type": "markdown",
   "id": "dba05de1",
   "metadata": {},
   "source": [
    "# Text Highlight"
   ]
  },
  {
   "cell_type": "markdown",
   "id": "e35454db",
   "metadata": {},
   "source": [
    "\n",
    "\n",
    "> We can highlight text using backticks (``)\n",
    "example: Johns Roll No is `1234567`\n",
    "\n",
    "> We can also colour using Highlight extension and colour using fill handle on top\n",
    "    example: Johns Roll No is `1234567`"
   ]
  },
  {
   "cell_type": "markdown",
   "id": "94c3fa9e",
   "metadata": {},
   "source": [
    "<div class=\"burk\">\n",
    "1234567</div><i class=\"fa fa-lightbulb-o \"></i>"
   ]
  },
  {
   "cell_type": "markdown",
   "id": "3bf13dd2",
   "metadata": {},
   "source": [
    "\n",
    "# Horizontal Rule:\n",
    "\n",
    "\n",
    "> # My Name is Zeba\n",
    "> # I am from Hyderabad\n",
    "> # I am a cse student\n",
    "----------\n",
    "# Text Emphasis: \n",
    "Using ** Bold ** and * italics *\n",
    "\n",
    "\n",
    ">  I have completed my **Masters**\n",
    ">  and I am a *fresher*\n"
   ]
  },
  {
   "cell_type": "markdown",
   "id": "c0ff783e",
   "metadata": {},
   "source": [
    "# Lists\n",
    "> 2 Types of Lists:\n",
    "1. Ordered:  Using `1.` (number followed by a dot space item in list)\n",
    "\n",
    "2. Unordered:  Using  `*` or `-` (usinf * and space followed by item in list) \n",
    "\n",
    "### **Example:**\n",
    "> Ordered:\n",
    "1. one\n",
    "2. Two\n",
    "3. Three\n",
    "4. Four\n",
    "\n",
    "> Unordered: Using `*`\n",
    "* one\n",
    "* Two\n",
    "* Three\n",
    "* Four\n",
    " \n",
    " \n",
    " or Using `-`\n",
    " \n",
    " - one\n",
    " - two\n",
    " - three"
   ]
  },
  {
   "cell_type": "markdown",
   "id": "ae237a6c",
   "metadata": {},
   "source": [
    "# Hyperlink:\n",
    "> To add link \n",
    " syntax:\n",
    " \n",
    " `[text](url tool tip)`\n",
    " \n",
    " ex:\n",
    " \n",
    " [Google](www.google.com)\n",
    " \n",
    " \n",
    " [Amazon](www.amazon.com)\n",
    " \n",
    " ---\n",
    " > To add image:\n",
    " Syntax: `![text](url tootltip)`\n",
    " `\n",
    " \n",
    " \n",
    " ![Dog](https://thumbs.dreamstime.com/z/golden-retriever-dog-21668976.jpg)\n",
    " \n",
    " ------\n",
    " \n",
    " We Can also do this using HTML:\n",
    " \n",
    " Syntax: `<img src=\"https://thumbs.dreamstime.com/z/golden-retriever-dog-21668976.jpg\">`\n",
    "\n",
    "\n",
    "Example: <img src=\"https://thumbs.dreamstime.com/z/golden-retriever-dog-21668976.jpg\">"
   ]
  },
  {
   "cell_type": "markdown",
   "id": "862132f2",
   "metadata": {},
   "source": [
    "# Commenting: when we dont want to display something\n",
    "> Using `Ctrl + /`\n",
    "\n",
    "\n",
    "ex: `<!-- when we dont want to display something -->`\n"
   ]
  },
  {
   "cell_type": "code",
   "execution_count": 12,
   "id": "9bd208db",
   "metadata": {},
   "outputs": [],
   "source": [
    "a = 1\n",
    "b = 0.5\n",
    "c = 'hello'"
   ]
  },
  {
   "cell_type": "code",
   "execution_count": 6,
   "id": "684b1187",
   "metadata": {},
   "outputs": [
    {
     "data": {
      "text/plain": [
       "int"
      ]
     },
     "execution_count": 6,
     "metadata": {},
     "output_type": "execute_result"
    }
   ],
   "source": [
    "type(a)"
   ]
  },
  {
   "cell_type": "code",
   "execution_count": 7,
   "id": "68df348c",
   "metadata": {},
   "outputs": [
    {
     "data": {
      "text/plain": [
       "float"
      ]
     },
     "execution_count": 7,
     "metadata": {},
     "output_type": "execute_result"
    }
   ],
   "source": [
    "type(b)"
   ]
  },
  {
   "cell_type": "code",
   "execution_count": 13,
   "id": "ff55a7f0",
   "metadata": {},
   "outputs": [
    {
     "data": {
      "text/plain": [
       "str"
      ]
     },
     "execution_count": 13,
     "metadata": {},
     "output_type": "execute_result"
    }
   ],
   "source": [
    "type(c)"
   ]
  },
  {
   "cell_type": "code",
   "execution_count": 9,
   "id": "3b914ef6",
   "metadata": {},
   "outputs": [
    {
     "data": {
      "text/plain": [
       "str"
      ]
     },
     "execution_count": 9,
     "metadata": {},
     "output_type": "execute_result"
    }
   ],
   "source": [
    "type()"
   ]
  },
  {
   "cell_type": "code",
   "execution_count": null,
   "id": "026eb52a",
   "metadata": {},
   "outputs": [],
   "source": [
    "d = "
   ]
  }
 ],
 "metadata": {
  "kernelspec": {
   "display_name": "Python 3 (ipykernel)",
   "language": "python",
   "name": "python3"
  },
  "language_info": {
   "codemirror_mode": {
    "name": "ipython",
    "version": 3
   },
   "file_extension": ".py",
   "mimetype": "text/x-python",
   "name": "python",
   "nbconvert_exporter": "python",
   "pygments_lexer": "ipython3",
   "version": "3.9.13"
  }
 },
 "nbformat": 4,
 "nbformat_minor": 5
}
